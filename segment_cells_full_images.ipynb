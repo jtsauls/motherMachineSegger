{
 "cells": [
  {
   "cell_type": "code",
   "execution_count": 1,
   "metadata": {},
   "outputs": [],
   "source": [
    "import os\n",
    "import glob\n",
    "import numpy as np\n",
    "import matplotlib.pyplot as plt\n",
    "import matplotlib as mpl\n",
    "mpl.rcParams['axes.grid'] = False\n",
    "mpl.rcParams['figure.figsize'] = (12,12)\n",
    "from skimage import io"
   ]
  },
  {
   "cell_type": "code",
   "execution_count": 2,
   "metadata": {},
   "outputs": [
    {
     "name": "stderr",
     "output_type": "stream",
     "text": [
      "//anaconda/lib/python2.7/site-packages/h5py/__init__.py:34: FutureWarning: Conversion of the second argument of issubdtype from `float` to `np.floating` is deprecated. In future, it will be treated as `np.float64 == np.dtype(float).type`.\n",
      "  from ._conv import register_converters as _register_converters\n",
      "//anaconda/lib/python2.7/site-packages/pandas/computation/__init__.py:19: UserWarning: The installed version of numexpr 2.4.4 is not supported in pandas and will be not be used\n",
      "\n",
      "  UserWarning)\n"
     ]
    }
   ],
   "source": [
    "import tensorflow as tf\n",
    "from tensorflow.python.keras.preprocessing.image import ImageDataGenerator\n",
    "from tensorflow.python.keras import models\n",
    "from tensorflow.python.keras import losses"
   ]
  },
  {
   "cell_type": "markdown",
   "metadata": {},
   "source": [
    "To do: \n",
    "1. pair predictions back to their original images.\n",
    "2. consider network to detect traps for cropping of traps.\n"
   ]
  },
  {
   "cell_type": "markdown",
   "metadata": {},
   "source": [
    "# Read 2048x2048 images, tile them in generator\n",
    "## Set up image generator\n",
    "\n",
    "We need to pull images from a given directory, and crop them to 256x256 sub-images.\n",
    "\n",
    "The `tileImage` function will do the cropping and arrange the sub-images into a tidy numpy array. `crop_generator` will accept a batch of images, and call `tileImage` on each image in the batch."
   ]
  },
  {
   "cell_type": "code",
   "execution_count": 3,
   "metadata": {},
   "outputs": [],
   "source": [
    "def tileImage(img, subImageNumber):\n",
    "    divisor = int(np.sqrt(subImageNumber))\n",
    "    M = img.shape[0]//divisor\n",
    "    N = img.shape[0]//divisor\n",
    "    tiles = np.asarray([img[x:x+M,y:y+N] for x in range(0,img.shape[0],M) for y in range(0,img.shape[1],N)])\n",
    "    return(tiles)\n",
    "\n",
    "def crop_generator(batches, subImageNumber=64):\n",
    "    while True:\n",
    "        batch_imgs = next(batches)\n",
    "        x_subImageNumber = int(np.sqrt(subImageNumber))\n",
    "        crop_length = int(batch_imgs.shape[1]//x_subImageNumber)\n",
    "        batch_tiles = np.zeros((batch_imgs.shape[0]*subImageNumber, crop_length, crop_length, 1)) # array to store batch of tiled images\n",
    "        for i in range(batch_imgs.shape[0]):  # loop through all images in the batch\n",
    "            tile = tileImage(batch_imgs[i], subImageNumber=subImageNumber)\n",
    "            batch_tiles[i*tile.shape[0]:i*tile.shape[0]+tile.shape[0],...] = tile # toss the tiles image into its appropriate batch\n",
    "        yield (batch_tiles)"
   ]
  },
  {
   "cell_type": "markdown",
   "metadata": {},
   "source": [
    "Don't augment the images, since this is a prediction task, and not a training task. No augmentation is the default behavior of the `ImageDataGenerator` class, so no need to define any arguments here."
   ]
  },
  {
   "cell_type": "code",
   "execution_count": 4,
   "metadata": {},
   "outputs": [],
   "source": [
    "image_datagen = ImageDataGenerator()"
   ]
  },
  {
   "cell_type": "markdown",
   "metadata": {},
   "source": [
    "## Make the image generator\n",
    "\n",
    "### NOTE:\n",
    "I had to modify the source code for tensorflow to get 16-bit images to read in correctly. My problem was that the pixel intensity values of all my 16-bit images, after reading in, were truncated to 255! \n",
    "\n",
    "Following the suggestion by jfx319 [here](https://github.com/keras-team/keras/issues/4486), I modified tensorflow's image.py code in `load_img` from:\n",
    "\n",
    "```python\n",
    "if grayscale:\n",
    "    if img.mode != 'L':\n",
    "        img = img.convert('L')\n",
    "```\n",
    "\n",
    "to now be:\n",
    "\n",
    "```python\n",
    "if grayscale:\n",
    "    img = img.convert('I')\n",
    "```\n",
    "\n",
    "That seems to be a fine fix.\n",
    "\n",
    "If you're not sure where to find tensorflow's image.py, I recommend running the following from your command line:\n",
    "\n",
    "```bash\n",
    "locate image.py | grep tensorflow\n",
    "```"
   ]
  },
  {
   "cell_type": "code",
   "execution_count": 14,
   "metadata": {},
   "outputs": [
    {
     "name": "stdout",
     "output_type": "stream",
     "text": [
      "Found 1 images belonging to 1 classes.\n"
     ]
    }
   ],
   "source": [
    "seed = 1\n",
    "batch_size=1 # Here, batch_size refers to the number of 2048x2048 images read in by the generator at once.\n",
    "             # Each image is cropped to 64 256x256 pixel sub-images.\n",
    "             # This means that a batch_size of 2 large images here translates to a batch_size of 2*64 sub-images when the generator is actually run\n",
    "subImageNumber = 64 # how many cropped sub-images to make from each large image\n",
    "\n",
    "#'/Volumes/GoogleDrive/My Drive/code_20180913/motherMachineSegger/full_image_data/test/images'\n",
    "\n",
    "image_generator = image_datagen.flow_from_directory( # will take images from a directory\n",
    "    './shift35_imgs/test/images/', # the images are actually in 'full_image_data/test/images/cells' because flow_from_directory requires your images to be in sub-directories, assuming you have different classes of images in different sub-directories\n",
    "    color_mode=\"grayscale\",\n",
    "    class_mode=None,\n",
    "    seed=seed,\n",
    "    batch_size=batch_size,\n",
    "    target_size=(2048,2048)) # defaults to (256,256), so make sure you define the full image size.\n",
    "\n",
    "test_crops = crop_generator(image_generator, subImageNumber=subImageNumber)"
   ]
  },
  {
   "cell_type": "markdown",
   "metadata": {},
   "source": [
    "## Define functions for loss metrics\n",
    "\n",
    "This is ripped straight off of this [tutorial](https://github.com/tensorflow/models/blob/master/samples/outreach/blogs/segmentation_blogpost/image_segmentation.ipynb), in the **Defining custom metrics and loss functions** section."
   ]
  },
  {
   "cell_type": "code",
   "execution_count": 6,
   "metadata": {},
   "outputs": [],
   "source": [
    "def dice_coeff(y_true, y_pred):\n",
    "    smooth = 1.\n",
    "    # Flatten\n",
    "    y_true_f = tf.reshape(y_true, [-1])\n",
    "    y_pred_f = tf.reshape(y_pred, [-1])\n",
    "    intersection = tf.reduce_sum(y_true_f * y_pred_f)\n",
    "    score = (2. * intersection + smooth) / (tf.reduce_sum(y_true_f) + tf.reduce_sum(y_pred_f) + smooth)\n",
    "    return score\n",
    "\n",
    "def dice_loss(y_true, y_pred):\n",
    "    loss = 1 - dice_coeff(y_true, y_pred)\n",
    "    return loss\n",
    "\n",
    "def bce_dice_loss(y_true, y_pred):\n",
    "    loss = losses.binary_crossentropy(y_true, y_pred) + dice_loss(y_true, y_pred)\n",
    "    return loss"
   ]
  },
  {
   "cell_type": "markdown",
   "metadata": {},
   "source": [
    "## Read in the model that was saved when we ran train_Unet.ipynb\n",
    "\n",
    "Save time by checking if `model` is defined before deciding whether to read it in."
   ]
  },
  {
   "cell_type": "code",
   "execution_count": 7,
   "metadata": {},
   "outputs": [],
   "source": [
    "try: \n",
    "    model\n",
    "except:\n",
    "    model = models.load_model('weights_20181009_e20.hdf5', custom_objects={'bce_dice_loss': bce_dice_loss,\n",
    "                                                           'dice_loss': dice_loss})"
   ]
  },
  {
   "cell_type": "code",
   "execution_count": 8,
   "metadata": {},
   "outputs": [],
   "source": [
    "def imageConcatenator(imgStack, subImageNumber = 64):\n",
    "    \n",
    "    rowNumPerImage = int(np.sqrt(subImageNumber)) # here I'm assuming our large images are square, with equal number of crops in each dimension\n",
    "    imageNum = int(imgStack.shape[0]/subImageNumber) # total number of sub-images divided by the number of sub-images in each original large image\n",
    "    iterNum = int(imageNum*rowNumPerImage)\n",
    "    imageDims = int(np.sqrt(imgStack.shape[1]*imgStack.shape[2]*subImageNumber))\n",
    "    bigImg = np.zeros(shape=(imageNum, imageDims, imageDims), dtype='float32') # create array to store reconstructed images\n",
    "    rowDict = {}\n",
    "    \n",
    "    for i in range(iterNum):\n",
    "        baseNum = int(i*iterNum/imageNum)\n",
    "        # concatenate columns of 256x256 images to build each 256x2048 row\n",
    "        rowDict[i] = np.column_stack((imgStack[baseNum,:,:,0],imgStack[baseNum+1,:,:,0],imgStack[baseNum+2,:,:,0],imgStack[baseNum+3,:,:,0],imgStack[baseNum+4,:,:,0],imgStack[baseNum+5,:,:,0],imgStack[baseNum+6,:,:,0],imgStack[baseNum+7,:,:,0],))\n",
    "\n",
    "    for i in range(imageNum):\n",
    "        baseNum = int(i*rowNumPerImage)\n",
    "        # concatenate appropriate 256x2048 rows to build a 2048x2048 image and place it into bigImg\n",
    "        bigImg[i,:,:] = np.row_stack((rowDict[baseNum],rowDict[baseNum+1],rowDict[baseNum+2],rowDict[baseNum+3],rowDict[baseNum+4],rowDict[baseNum+5],rowDict[baseNum+6],rowDict[baseNum+7]))\n",
    "    \n",
    "    return(bigImg)"
   ]
  },
  {
   "cell_type": "markdown",
   "metadata": {},
   "source": [
    "## Run model on 256x256 cropped images\n",
    "\n",
    "Here we're cropping and feeding the images in one step by using our `test_crops` generator. The model runs on each 256x256 crop, and the resulting object is predictions for each crop from each large image in our test directory.\n",
    "\n",
    "`model.predict_generator` will handle taking batches of images from `test_crops` and stacking up the resulting predictions in the output. Note the `steps=stepNumber` argument here. It essentially defines how many distinct batches of images we are going to run the model on. Here I've written code to allow us to just run on all the images in the directory defined in the `test_crops` image generator. You can imagine a scenario, however, where we have thousands of images, and we won't be able to fit all their predictions into RAM at once. Maybe in that case we could set up a loop to run a few steps at a time, saving the resulting predictions to disk each time through the loop.\n",
    "\n",
    "After getting the model's predictions we reconstruct the full 2048x2048 predictions by concatenating the appropriate 256x256 crops using the `imageConcatenator` function defined above."
   ]
  },
  {
   "cell_type": "code",
   "execution_count": 27,
   "metadata": {},
   "outputs": [],
   "source": [
    "imageNumber = len(glob.glob('./shift35_imgs/test/images/cells/*.*'))\n",
    "stepNumber = int(np.ceil(imageNumber/batch_size))\n",
    "\n",
    "predictions = model.predict_generator(test_crops, steps=stepNumber)\n",
    "prediction = imageConcatenator(predictions)"
   ]
  },
  {
   "cell_type": "code",
   "execution_count": 28,
   "metadata": {},
   "outputs": [
    {
     "name": "stdout",
     "output_type": "stream",
     "text": [
      "(1, 2048, 2048)\n"
     ]
    }
   ],
   "source": [
    "print(prediction.shape) # sanity check that the first dimention is imageNum long"
   ]
  },
  {
   "cell_type": "markdown",
   "metadata": {},
   "source": [
    "## Take a look at your predictions"
   ]
  },
  {
   "cell_type": "code",
   "execution_count": 29,
   "metadata": {},
   "outputs": [
    {
     "data": {
      "image/png": "[encoded data removed]",
      "text/plain": [
       "<matplotlib.figure.Figure at 0x13fd50790>"
      ]
     },
     "metadata": {},
     "output_type": "display_data"
    }
   ],
   "source": [
    "# prediction[prediction < 0.99] = 0 \n",
    "io.imshow(prediction[0, :, :])\n",
    "plt.savefig('./prediction20181009_1.png', dpi=600)"
   ]
  },
  {
   "cell_type": "code",
   "execution_count": 20,
   "metadata": {},
   "outputs": [
    {
     "data": {
      "text/plain": [
       "(1, 2048, 2048)"
      ]
     },
     "execution_count": 20,
     "metadata": {},
     "output_type": "execute_result"
    }
   ],
   "source": [
    "prediction.shape"
   ]
  },
  {
   "cell_type": "code",
   "execution_count": null,
   "metadata": {},
   "outputs": [],
   "source": []
  }
 ],
 "metadata": {
  "kernelspec": {
   "display_name": "Python 2",
   "language": "python",
   "name": "python2"
  },
  "language_info": {
   "codemirror_mode": {
    "name": "ipython",
    "version": 2
   },
   "file_extension": ".py",
   "mimetype": "text/x-python",
   "name": "python",
   "nbconvert_exporter": "python",
   "pygments_lexer": "ipython2",
   "version": "2.7.13"
  }
 },
 "nbformat": 4,
 "nbformat_minor": 2
}
