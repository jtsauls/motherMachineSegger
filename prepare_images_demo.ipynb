{
 "cells": [
  {
   "cell_type": "markdown",
   "metadata": {},
   "source": [
    "# Preparing images for U-net architechture\n",
    "### October 12th 2018\n",
    "* This notebook takes annotated images that originally came from mm3 and prepares them to be used as training and validation data for a U-net convolution net. \n",
    "* Need to take tif stacks (raw images and masks), make them square, and make the masks binary images.\n",
    "* Additionaly, can do morphological operations on the masks to clean them up. \n",
    "* Images are save to a directory tree."
   ]
  },
  {
   "cell_type": "code",
   "execution_count": 71,
   "metadata": {},
   "outputs": [],
   "source": [
    "from __future__ import print_function\n",
    "\n",
    "import os\n",
    "import tifffile as tiff\n",
    "import png # can pip this package to save pngs at any bitsize\n",
    "import numpy as np\n",
    "from skimage import morphology # for editing images\n",
    "\n",
    "# Plotting\n",
    "%matplotlib inline\n",
    "import matplotlib as mpl\n",
    "import matplotlib.pyplot as plt"
   ]
  },
  {
   "cell_type": "markdown",
   "metadata": {},
   "source": [
    "# Load images\n",
    "The data originally came from [this experiment](https://www.evernote.com/shard/s270/nl/69190255/8f3894ed-55c0-4514-bafa-5401846d9878/). \n",
    "\n",
    "This is how I annotated the images using imageJ.\n",
    "* I use the phase _c1, subtracted phase _c1_sub, and segmented _seg images. \n",
    "* Turn the segmented image to a binary using Image>Adjust>Threshold, then change it back to 16-bit Image>Type>16-bit. \n",
    "* Then merge the channels Image>Color>Merge and make a composite image with phase in grey, subtracted in cyan, and threshold in yellow. Adjust colors with the levels menu so you can see all three. \n",
    "* Make sure you are on the 3rd (segmented) channel. Press Option + right arrow to move through the \"Z stacks\"/timepoints. \n",
    "* Edit images with the pencil tool. Break up all cells by at least 1 pixel.  \n",
    "* Save the merged stack as fXXpXXXX_c1_comp3_annotate.tif\n",
    "* After 50 time points for one channel, save individual channels. Use Image>Colors>Split Channels then Image>Stacks>Tools>Slice Keeps to save the slices you annotated. Save phase and segmented as as fXXpXXXX_1-50_img.tif and fXXpXXXX_1-50_mask.tif, respectively.\n",
    "\n",
    "I loaded, processed, and saved each dataset one at a time rather than processing them all at once. "
   ]
  },
  {
   "cell_type": "code",
   "execution_count": 72,
   "metadata": {},
   "outputs": [],
   "source": [
    "image_source_path = './demo/annotated'\n",
    "\n",
    "phase_images = 'f01p0030_1-50_img.tif'\n",
    "mask_images = 'f01p0030_1-50_mask.tif'\n",
    "id_str = 'f01p0030'\n",
    "\n",
    "# phase_images = 'f01p0161_1-50_img.tif'\n",
    "# mask_images = 'f01p0161_1-50_mask.tif'\n",
    "# id_str = 'f01p0161'\n",
    "\n",
    "# phase_images = 'f01p0248_1-50_img.tif'\n",
    "# mask_images = 'f01p0248_1-50_mask.tif'\n",
    "# id_str = 'f01p0248'\n",
    "\n",
    "# phase_images = 'f01p0335_1-50_img.tif'\n",
    "# mask_images = 'f01p0335_1-50_mask.tif'\n",
    "# id_str = 'f01p0335'"
   ]
  },
  {
   "cell_type": "code",
   "execution_count": 73,
   "metadata": {},
   "outputs": [],
   "source": [
    "with tiff.TiffFile(os.path.join(image_source_path, phase_images)) as tif:\n",
    "    img_stack = tif.asarray()\n",
    "    \n",
    "with tiff.TiffFile(os.path.join(image_source_path, mask_images)) as tif:\n",
    "    mask_stack = tif.asarray()"
   ]
  },
  {
   "cell_type": "markdown",
   "metadata": {},
   "source": [
    "### What do they look like?"
   ]
  },
  {
   "cell_type": "code",
   "execution_count": 74,
   "metadata": {},
   "outputs": [
    {
     "data": {
      "text/plain": [
       "<matplotlib.image.AxesImage at 0x1168fed90>"
      ]
     },
     "execution_count": 74,
     "metadata": {},
     "output_type": "execute_result"
    },
    {
     "data": {
      "image/png": "[encoded data removed]",
      "text/plain": [
       "<matplotlib.figure.Figure at 0x1168fee10>"
      ]
     },
     "metadata": {},
     "output_type": "display_data"
    }
   ],
   "source": [
    "fig, axes = plt.subplots(ncols=2, sharex=True, sharey=True)\n",
    "ax = axes.ravel()\n",
    "ax[0].imshow(img_stack[0], cmap=plt.cm.gray)\n",
    "ax[1].imshow(mask_stack[0], cmap=plt.cm.gray)"
   ]
  },
  {
   "cell_type": "markdown",
   "metadata": {},
   "source": [
    "# Make directory for images in correct format\n",
    "The format is to look like:\n",
    "\n",
    "```bash\n",
    "./data/\n",
    "├── train\n",
    "│   ├── images\n",
    "│   │   └── cells\n",
    "│   └── masks\n",
    "│       └── cells\n",
    "└── val\n",
    "    ├── images\n",
    "    │   └── cells\n",
    "    └── masks\n",
    "        └── cells\n",
    "```\n",
    "\n",
    "* The `train` directory holds images and masks for training the model. \n",
    "* The `val` directory holds images and masks for validating the model (necessary for training). \n",
    "* The the images go into the extra directory 'cells' as this is the name of the label. You need this extra directory."
   ]
  },
  {
   "cell_type": "code",
   "execution_count": 75,
   "metadata": {},
   "outputs": [
    {
     "name": "stdout",
     "output_type": "stream",
     "text": [
      "./demo/data/train/images/cells already exists.\n",
      "./demo/data/train/masks/cells already exists.\n",
      "./demo/data/val/images/cells already exists.\n",
      "./demo/data/val/masks/cells already exists.\n"
     ]
    }
   ],
   "source": [
    "image_dest_path = './demo'\n",
    "\n",
    "try:\n",
    "    os.makedirs(os.path.join(image_dest_path, 'data/train/images/cells'))\n",
    "except:\n",
    "    print(os.path.join(image_dest_path, 'data/train/images/cells'), 'already exists.')\n",
    "try:\n",
    "    os.makedirs(os.path.join(image_dest_path, 'data/train/masks/cells'))\n",
    "except:\n",
    "    print(os.path.join(image_dest_path, 'data/train/masks/cells'), 'already exists.')\n",
    "try:\n",
    "    os.makedirs(os.path.join(image_dest_path, 'data/val/images/cells'))\n",
    "except:\n",
    "    print(os.path.join(image_dest_path, 'data/val/images/cells'), 'already exists.')\n",
    "try:\n",
    "    os.makedirs(os.path.join(image_dest_path, 'data/val/masks/cells'))\n",
    "except:\n",
    "    print(os.path.join(image_dest_path, 'data/val/masks/cells'), 'already exists.')"
   ]
  },
  {
   "cell_type": "markdown",
   "metadata": {},
   "source": [
    "# Fix images and masks, and save\n",
    "* Images of cells and masks must be square with a side length that is a power of 2. Specifically, the model is set up to take images that are 256x256. It can be, say, 128 or 512, but you'll need to change the model structure. \n",
    "* We will pad both images using edge padding. The phase images will be saved as 16-bit .pngs.\n",
    "* Mask images should be actual binary images (0 or 1), and be saved as 8-bit .pngs. \n",
    "* You can erode the binary mask to make the separation between the cells a little stronger. But the model seems to work in either case. \n",
    "* Some images will be put in the folder to be used for training, the others will be used for model validation. I've seen everywhere from 90/10 to 50/50 split. Not sure what is best. There are 200 images total so I will put 10 from every set of 50 in the validation folder."
   ]
  },
  {
   "cell_type": "code",
   "execution_count": 76,
   "metadata": {},
   "outputs": [],
   "source": [
    "n_train = 40 # after this number images will be sent to the evaluation folder"
   ]
  },
  {
   "cell_type": "code",
   "execution_count": 77,
   "metadata": {},
   "outputs": [],
   "source": [
    "for i in range(img_stack.shape[0]):\n",
    "    # binarize and erode mask\n",
    "    mask_img = mask_stack[i]\n",
    "    mask_img[mask_img > 0] = 1\n",
    "    \n",
    "    # this square does a nice job of cutting off corners\n",
    "#     mask_img = morphology.binary_erosion(mask_img, selem=morphology.disk(1))\n",
    "\n",
    "    # reshape images\n",
    "    shape = (256, 256)\n",
    "    img_shape = mask_img.shape\n",
    "    pad = ((np.ceil((shape[0] - img_shape[0])/2.0).astype(int), \n",
    "            np.floor((shape[0] - img_shape[0])/2.0).astype(int)),\n",
    "           (np.ceil((shape[1] - img_shape[1])/2.0).astype(int), \n",
    "            np.floor((shape[1] - img_shape[1])/2.0).astype(int)))\n",
    "    mask_img = np.pad(mask_img, pad_width=pad, mode='edge')\n",
    "\n",
    "    phase_img = img_stack[i]\n",
    "    img_shape = phase_img.shape\n",
    "    pad = ((np.ceil((shape[0] - img_shape[0])/2.0).astype(int), \n",
    "            np.floor((shape[0] - img_shape[0])/2.0).astype(int)),\n",
    "           (np.ceil((shape[1] - img_shape[1])/2.0).astype(int), \n",
    "            np.floor((shape[1] - img_shape[1])/2.0).astype(int)))\n",
    "    phase_img = np.pad(phase_img, pad_width=pad, mode='edge')\n",
    "\n",
    "    # save images\n",
    "    if i < n_train:\n",
    "        phase_file_path = os.path.join(image_dest_path, 'data/train/images/cells')\n",
    "        mask_file_path = os.path.join(image_dest_path, 'data/train/masks/cells')\n",
    "    else:\n",
    "        phase_file_path = os.path.join(image_dest_path, 'data/val/images/cells')\n",
    "        mask_file_path = os.path.join(image_dest_path, 'data/val/masks/cells')\n",
    "        \n",
    "    mask_name = id_str + '_mask_' + '{:02d}'.format(i+1) + '.png'\n",
    "    with open(os.path.join(mask_file_path, mask_name), 'wb') as f:\n",
    "        w = png.Writer(width=shape[1], height=shape[0], bitdepth=8, greyscale=True)\n",
    "        w.write(f, mask_img)\n",
    "\n",
    "    phase_name = id_str + '_phase_' + '{:02d}'.format(i+1) + '.png'\n",
    "    with open(os.path.join(phase_file_path, phase_name), 'wb') as f:\n",
    "        w = png.Writer(width=shape[1], height=shape[0], bitdepth=16, greyscale=True)\n",
    "        w.write(f, phase_img)"
   ]
  }
 ],
 "metadata": {
  "kernelspec": {
   "display_name": "Python 2",
   "language": "python",
   "name": "python2"
  },
  "language_info": {
   "codemirror_mode": {
    "name": "ipython",
    "version": 2
   },
   "file_extension": ".py",
   "mimetype": "text/x-python",
   "name": "python",
   "nbconvert_exporter": "python",
   "pygments_lexer": "ipython2",
   "version": "2.7.13"
  }
 },
 "nbformat": 4,
 "nbformat_minor": 2
}
