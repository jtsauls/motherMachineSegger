{
 "cells": [
  {
   "cell_type": "markdown",
   "metadata": {},
   "source": [
    "# Predicting segments with model\n",
    "### October 12th 2018\n",
    "* This demo goes through loading a previously computed model and predicting masks. \n",
    "* It is set up to use the validation images but you can put in any images (as long as they are 256x256). \n",
    "\n",
    "### Import modules"
   ]
  },
  {
   "cell_type": "code",
   "execution_count": 25,
   "metadata": {},
   "outputs": [],
   "source": [
    "import os\n",
    "from itertools import izip\n",
    "\n",
    "# learning modules\n",
    "import tensorflow as tf\n",
    "from tensorflow.python.keras.preprocessing.image import ImageDataGenerator\n",
    "from tensorflow.python.keras import models\n",
    "from tensorflow.python.keras import losses\n",
    "\n",
    "# plotting modules\n",
    "import numpy as np\n",
    "import matplotlib.pyplot as plt\n",
    "import matplotlib as mpl\n",
    "mpl.rcParams['axes.grid'] = False\n",
    "mpl.rcParams['figure.figsize'] = (12,12)"
   ]
  },
  {
   "cell_type": "markdown",
   "metadata": {},
   "source": [
    "# Make image generator\n",
    "* You don't have to use a generator, but it can make processing a bunch of images easier.\n",
    "* Since there is no augmentation, none of the parameters need to be specified for ImageDataGenerator.\n",
    "* Important to turn shuffle off for predicting or else the images don't come out in the same order. "
   ]
  },
  {
   "cell_type": "code",
   "execution_count": 26,
   "metadata": {},
   "outputs": [],
   "source": [
    "data_dir = './demo/data'"
   ]
  },
  {
   "cell_type": "code",
   "execution_count": 27,
   "metadata": {},
   "outputs": [
    {
     "name": "stdout",
     "output_type": "stream",
     "text": [
      "Found 40 images belonging to 1 classes.\n"
     ]
    }
   ],
   "source": [
    "# for the validation data we do no augmentation\n",
    "val_image_datagen = ImageDataGenerator()\n",
    "\n",
    "# Provide the same seed and keyword arguments to the fit and flow methods\n",
    "seed = 1\n",
    "batch_size = 1\n",
    "\n",
    "val_image_generator = val_image_datagen.flow_from_directory(\n",
    "    os.path.join(data_dir, 'val/images'),\n",
    "    color_mode=\"grayscale\",\n",
    "    class_mode=None,\n",
    "    seed=seed,\n",
    "    batch_size=batch_size,\n",
    "    shuffle=False)"
   ]
  },
  {
   "cell_type": "markdown",
   "metadata": {},
   "source": [
    "# Load model\n",
    "* Supply it with the custom loss objects with which it was trained.\n",
    "* The model is nearly 200Mb. It is too big to put on github but you can get it from [this](https://www.evernote.com/shard/s270/nl/69190255/8c087944-54ea-4eff-bf1a-3c346fbbcba6/) Evernote note. "
   ]
  },
  {
   "cell_type": "code",
   "execution_count": 28,
   "metadata": {},
   "outputs": [],
   "source": [
    "def dice_coeff(y_true, y_pred):\n",
    "    smooth = 1.\n",
    "    # Flatten\n",
    "    y_true_f = tf.reshape(y_true, [-1])\n",
    "    y_pred_f = tf.reshape(y_pred, [-1])\n",
    "    intersection = tf.reduce_sum(y_true_f * y_pred_f)\n",
    "    score = (2. * intersection + smooth) / (tf.reduce_sum(y_true_f) + tf.reduce_sum(y_pred_f) + smooth)\n",
    "    return score\n",
    "\n",
    "def dice_loss(y_true, y_pred):\n",
    "    loss = 1 - dice_coeff(y_true, y_pred)\n",
    "    return loss\n",
    "\n",
    "def bce_dice_loss(y_true, y_pred):\n",
    "    loss = losses.binary_crossentropy(y_true, y_pred) + dice_loss(y_true, y_pred)\n",
    "    return loss"
   ]
  },
  {
   "cell_type": "code",
   "execution_count": 29,
   "metadata": {},
   "outputs": [],
   "source": [
    "model = models.load_model('./demo/weights.hdf5', \n",
    "                          custom_objects={'bce_dice_loss': bce_dice_loss,\n",
    "                                          'dice_loss': dice_loss})"
   ]
  },
  {
   "cell_type": "markdown",
   "metadata": {},
   "source": [
    "# Predict on all images in generator"
   ]
  },
  {
   "cell_type": "code",
   "execution_count": 30,
   "metadata": {},
   "outputs": [
    {
     "name": "stdout",
     "output_type": "stream",
     "text": [
      "40/40 [==============================] - 22s 545ms/step\n"
     ]
    }
   ],
   "source": [
    "# here are some arguments for multiprocessing if you want\n",
    "# args = dict(steps=val_image_generator.n / val_image_generator.batch_size,\n",
    "#             max_queue_size=10,\n",
    "#             workers=4,\n",
    "#             use_multiprocessing=True,\n",
    "#             verbose=1)\n",
    "\n",
    "predictions = model.predict_generator(val_image_generator, verbose=1)"
   ]
  },
  {
   "cell_type": "markdown",
   "metadata": {},
   "source": [
    "### Predict on one batch\n",
    "* Alternative method to just do batch at a time."
   ]
  },
  {
   "cell_type": "code",
   "execution_count": 31,
   "metadata": {},
   "outputs": [],
   "source": [
    "# test_imgs = val_image_generator.next() # the next command produces a new batch of images\n",
    "# predictions = model.predict_on_batch(test_imgs)"
   ]
  },
  {
   "cell_type": "markdown",
   "metadata": {},
   "source": [
    "# Save out predicions overlaid on the images\n",
    "* The output is a probability map where each pixel ranges from 0 to 1. We simply take a threshold of 0.99 to label a pixel as a cell."
   ]
  },
  {
   "cell_type": "code",
   "execution_count": 32,
   "metadata": {},
   "outputs": [
    {
     "name": "stdout",
     "output_type": "stream",
     "text": [
      "('./demo/output/', 'already exists.')\n"
     ]
    }
   ],
   "source": [
    "image_output_path = './demo/output/'\n",
    "\n",
    "try:\n",
    "    os.makedirs(image_output_path)\n",
    "except:\n",
    "    print(image_output_path, 'already exists.')"
   ]
  },
  {
   "cell_type": "code",
   "execution_count": 33,
   "metadata": {
    "scrolled": false
   },
   "outputs": [],
   "source": [
    "val_image_generator.reset() # start generator over\n",
    "n_imgs = predictions.shape[0]\n",
    "for i in range(n_imgs):\n",
    "\n",
    "    fig, axes = plt.subplots(nrows=1, ncols=1, figsize=(4,4), squeeze=False)\n",
    "    ax = axes.ravel()\n",
    "\n",
    "    img = val_image_generator.next()[0,:,:,0]\n",
    "    predicted_label = predictions[i,:,:,0]\n",
    "    predicted_label[predicted_label >= 0.99] = 1\n",
    "    predicted_label[predicted_label < 0.99] = 0\n",
    "\n",
    "    ax[0].imshow(img, cmap=plt.cm.gray)\n",
    "    ax[0].imshow(predicted_label, alpha=0.25)\n",
    "\n",
    "    ax[0].get_xaxis().set_visible(False)\n",
    "    ax[0].get_yaxis().set_visible(False)\n",
    "    \n",
    "    fig.tight_layout()\n",
    "    if i == 0: fig.show()\n",
    "    fig.savefig(os.path.join(image_output_path, '{:02d}.png'.format(i)), dpi=200)\n",
    "    plt.close()"
   ]
  },
  {
   "cell_type": "code",
   "execution_count": null,
   "metadata": {},
   "outputs": [],
   "source": []
  }
 ],
 "metadata": {
  "kernelspec": {
   "display_name": "Python 2",
   "language": "python",
   "name": "python2"
  }
 },
 "nbformat": 4,
 "nbformat_minor": 2
}
